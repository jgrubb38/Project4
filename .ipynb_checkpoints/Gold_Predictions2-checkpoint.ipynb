{
 "cells": [
  {
   "cell_type": "code",
   "execution_count": null,
   "id": "a2295489",
   "metadata": {},
   "outputs": [],
   "source": [
    "# Import the modules\n",
    "import numpy as np\n",
    "import pandas as pd\n",
    "import matplotlib.pyplot as plt\n",
    "import seaborn as sns\n",
    "import mplfinance as mpf\n",
    "import plotly.express as px\n",
    "from pathlib import Path\n",
    "from sklearn.model_selection import train_test_split\n",
    "from sklearn.ensemble import RandomForestRegressor\n",
    "from sklearn import metrics\n"
   ]
  },
  {
   "cell_type": "code",
   "execution_count": null,
   "id": "b8cb57a5",
   "metadata": {},
   "outputs": [],
   "source": [
    "# Read the CSV file from the Resources folder into a Pandas DataFrame\n",
    "file_path = Path(\"Resources/gld_price_data.csv\")\n",
    "df_gld = pd.read_csv(file_path)\n",
    "\n",
    "# Review the DataFrame\n",
    "df_gld.head()"
   ]
  },
  {
   "cell_type": "code",
   "execution_count": null,
   "id": "4ab57e5a",
   "metadata": {},
   "outputs": [],
   "source": [
    "# Separate the data into labels and features\n",
    "\n",
    "# Separate the y variable, the labels\n",
    "y = df_gld[\"GLD\"]\n",
    "\n",
    "# Separate the X variable, the features\n",
    "x = df_gld.drop(columns=[\"Date\", \"GLD\"], axis=1)"
   ]
  },
  {
   "cell_type": "code",
   "execution_count": null,
   "id": "6e01ab3d",
   "metadata": {},
   "outputs": [],
   "source": [
    "# Review the y variable Series\n",
    "print(y)"
   ]
  },
  {
   "cell_type": "code",
   "execution_count": null,
   "id": "78c4b215",
   "metadata": {},
   "outputs": [],
   "source": [
    "# Review the X variable DataFrame\n",
    "x.head()"
   ]
  },
  {
   "cell_type": "code",
   "execution_count": null,
   "id": "5e8782cc",
   "metadata": {},
   "outputs": [],
   "source": [
    "x.info()"
   ]
  },
  {
   "cell_type": "code",
   "execution_count": null,
   "id": "d3fa6640",
   "metadata": {},
   "outputs": [],
   "source": [
    "# Check the target values\n",
    "y.value_counts()"
   ]
  },
  {
   "cell_type": "code",
   "execution_count": null,
   "id": "6b832a06",
   "metadata": {},
   "outputs": [],
   "source": [
    "# Split the data using train_test_split\n",
    "# Assign a random_state of 2 to the function\n",
    "x_train, x_test, y_train, y_test = train_test_split(x, y, test_size = 0.2, random_state=2)"
   ]
  },
  {
   "cell_type": "code",
   "execution_count": null,
   "id": "7fee2cef",
   "metadata": {},
   "outputs": [],
   "source": [
    "y"
   ]
  },
  {
   "cell_type": "code",
   "execution_count": null,
   "id": "7a315120",
   "metadata": {},
   "outputs": [],
   "source": [
    "# Instantiate the Random Forest Regressor model\n",
    "regressor = RandomForestRegressor(n_estimators=100)"
   ]
  },
  {
   "cell_type": "code",
   "execution_count": null,
   "id": "97de9b71",
   "metadata": {},
   "outputs": [],
   "source": [
    "# Fit the model using training data\n",
    "regressor.fit(x_train,y_train)"
   ]
  },
  {
   "cell_type": "code",
   "execution_count": null,
   "id": "5e9c43b0",
   "metadata": {},
   "outputs": [],
   "source": [
    "# Make a prediction using the testing data\n",
    "test_data_prediction = regressor.predict(x_test)"
   ]
  },
  {
   "cell_type": "code",
   "execution_count": null,
   "id": "e49e1014",
   "metadata": {},
   "outputs": [],
   "source": [
    "# Calculate the R-Squared error from the predicted value\n",
    "error_score = metrics.r2_score(y_test, test_data_prediction)\n",
    "print(\"R squared error : \", error_score)"
   ]
  },
  {
   "cell_type": "code",
   "execution_count": null,
   "id": "c7c4c5c1",
   "metadata": {},
   "outputs": [],
   "source": [
    "# Convert Y_test values into a list\n",
    "y_test = list(y_test)"
   ]
  },
  {
   "cell_type": "code",
   "execution_count": null,
   "id": "9071c3d4",
   "metadata": {},
   "outputs": [],
   "source": [
    "# Plotting values of actual prices versus the predicted prices \n",
    "plt.figure(figsize=(10, 6))\n",
    "plt.plot(y_test, color='blue', label='Actual Value')\n",
    "plt.plot(test_data_prediction, color='green', label='Predicted Value')\n",
    "plt.title('Actual Price vs Predicted Price')\n",
    "plt.xlabel('Number of values')\n",
    "plt.ylabel('Gold Price')\n",
    "plt.legend()\n",
    "plt.show()"
   ]
  },
  {
   "cell_type": "code",
   "execution_count": null,
   "id": "e4b69371",
   "metadata": {},
   "outputs": [],
   "source": [
    "# Data Visualization - Interactive Time Series using plotly\n",
    "fig = px.line(df_gld, x=df_gld.index, y='GLD', title='GLD Price Time Series')\n",
    "fig.update_xaxes(title_text='Date')\n",
    "fig.update_yaxes(title_text='GLD Price')\n",
    "fig.show()"
   ]
  },
  {
   "cell_type": "code",
   "execution_count": null,
   "id": "886f2567",
   "metadata": {},
   "outputs": [],
   "source": [
    "# Data Visualization - Correlation Heatmap\n",
    "correlation_matrix = df_gld.corr()\n",
    "plt.figure(figsize=(10, 8))\n",
    "sns.heatmap(correlation_matrix, annot=True, cmap=\"coolwarm\", fmt=\".2f\")\n",
    "plt.title('Correlation Heatmap')\n",
    "plt.show()"
   ]
  },
  {
   "cell_type": "code",
   "execution_count": null,
   "id": "6cbf315a",
   "metadata": {},
   "outputs": [],
   "source": []
  }
 ],
 "metadata": {
  "kernelspec": {
   "display_name": "Python 3 (ipykernel)",
   "language": "python",
   "name": "python3"
  },
  "language_info": {
   "codemirror_mode": {
    "name": "ipython",
    "version": 3
   },
   "file_extension": ".py",
   "mimetype": "text/x-python",
   "name": "python",
   "nbconvert_exporter": "python",
   "pygments_lexer": "ipython3",
   "version": "3.10.11"
  }
 },
 "nbformat": 4,
 "nbformat_minor": 5
}
